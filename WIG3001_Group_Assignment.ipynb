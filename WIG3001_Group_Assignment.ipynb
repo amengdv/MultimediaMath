{
  "nbformat": 4,
  "nbformat_minor": 0,
  "metadata": {
    "colab": {
      "provenance": [],
      "authorship_tag": "ABX9TyM2l/2BclXHBoiGmblSQ+ir",
      "include_colab_link": true
    },
    "kernelspec": {
      "name": "python3",
      "display_name": "Python 3"
    },
    "language_info": {
      "name": "python"
    }
  },
  "cells": [
    {
      "cell_type": "markdown",
      "metadata": {
        "id": "view-in-github",
        "colab_type": "text"
      },
      "source": [
        "<a href=\"https://colab.research.google.com/github/tingfang0406/MultimediaMath/blob/main/WIG3001_Group_Assignment.ipynb\" target=\"_parent\"><img src=\"https://colab.research.google.com/assets/colab-badge.svg\" alt=\"Open In Colab\"/></a>"
      ]
    },
    {
      "cell_type": "markdown",
      "source": [
        "**Group C - Colour Space Transformation Using Matrix Multiplication**"
      ],
      "metadata": {
        "id": "jppxvfCW2DwY"
      }
    },
    {
      "cell_type": "markdown",
      "source": [
        "**RGB to HSV**"
      ],
      "metadata": {
        "id": "5Uqkap3G2N2F"
      }
    },
    {
      "cell_type": "code",
      "source": [],
      "metadata": {
        "id": "XNQVKSyx2fWd"
      },
      "execution_count": null,
      "outputs": []
    },
    {
      "cell_type": "markdown",
      "source": [
        "**HSV to RGB**"
      ],
      "metadata": {
        "id": "bn9yYse12Rz9"
      }
    },
    {
      "cell_type": "code",
      "source": [],
      "metadata": {
        "id": "V5S5yOUG2fxW"
      },
      "execution_count": null,
      "outputs": []
    },
    {
      "cell_type": "markdown",
      "source": [
        "**RGB to YCbCr**"
      ],
      "metadata": {
        "id": "X699RwMn2UBe"
      }
    },
    {
      "cell_type": "code",
      "source": [],
      "metadata": {
        "id": "vnq134wB2gEl"
      },
      "execution_count": null,
      "outputs": []
    },
    {
      "cell_type": "markdown",
      "source": [
        "**YCbCr to RGB**"
      ],
      "metadata": {
        "id": "hjZ1P7US2W3F"
      }
    },
    {
      "cell_type": "code",
      "source": [],
      "metadata": {
        "id": "2__L5tuf2gWl"
      },
      "execution_count": null,
      "outputs": []
    },
    {
      "cell_type": "markdown",
      "source": [
        "**apply color filters and effects to images**"
      ],
      "metadata": {
        "id": "hUGkKfqk2ZmF"
      }
    },
    {
      "cell_type": "code",
      "source": [],
      "metadata": {
        "id": "yu7R5hk22ptJ"
      },
      "execution_count": null,
      "outputs": []
    }
  ]
}